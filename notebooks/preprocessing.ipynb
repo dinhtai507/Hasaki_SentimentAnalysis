{
 "cells": [
  {
   "cell_type": "code",
   "execution_count": 1,
   "metadata": {},
   "outputs": [],
   "source": [
    "# Import library\n",
    "import pandas as pd\n",
    "import os\n",
    "from datetime import datetime\n",
    "from underthesea import text_normalize\n",
    "from underthesea import classify\n",
    "from underthesea import sentiment\n",
    "import re\n",
    "\n",
    "# Read file\n",
    "mergecomment = pd.read_csv(os.path.join(os.path.dirname(os.getcwd()), \"data\", \"merged\", \"mergedcomment_20240328_1710.csv\"))"
   ]
  },
  {
   "cell_type": "code",
   "execution_count": 2,
   "metadata": {},
   "outputs": [],
   "source": [
    "# Choose the 'content_comment' column\n",
    "mergecomment = mergecomment[['content_comment']]"
   ]
  },
  {
   "cell_type": "code",
   "execution_count": 3,
   "metadata": {},
   "outputs": [
    {
     "data": {
      "text/html": [
       "<div>\n",
       "<style scoped>\n",
       "    .dataframe tbody tr th:only-of-type {\n",
       "        vertical-align: middle;\n",
       "    }\n",
       "\n",
       "    .dataframe tbody tr th {\n",
       "        vertical-align: top;\n",
       "    }\n",
       "\n",
       "    .dataframe thead th {\n",
       "        text-align: right;\n",
       "    }\n",
       "</style>\n",
       "<table border=\"1\" class=\"dataframe\">\n",
       "  <thead>\n",
       "    <tr style=\"text-align: right;\">\n",
       "      <th></th>\n",
       "      <th>content_comment</th>\n",
       "    </tr>\n",
       "  </thead>\n",
       "  <tbody>\n",
       "    <tr>\n",
       "      <th>0</th>\n",
       "      <td>giao lâu, chất lượng + đóng gói oke</td>\n",
       "    </tr>\n",
       "    <tr>\n",
       "      <th>1</th>\n",
       "      <td>thích em này thật sự, mùi thơm thảo mộc, lành ...</td>\n",
       "    </tr>\n",
       "    <tr>\n",
       "      <th>2</th>\n",
       "      <td>toner này gần như ko mùi dạng sệt thoa lên da ...</td>\n",
       "    </tr>\n",
       "    <tr>\n",
       "      <th>3</th>\n",
       "      <td>vô thưởng vô phạt, dễ chịu, không mùi thiết kế...</td>\n",
       "    </tr>\n",
       "    <tr>\n",
       "      <th>4</th>\n",
       "      <td>giao hàng nhanh với cả xài rất tốt í</td>\n",
       "    </tr>\n",
       "    <tr>\n",
       "      <th>5</th>\n",
       "      <td>rất hài lòng</td>\n",
       "    </tr>\n",
       "    <tr>\n",
       "      <th>6</th>\n",
       "      <td>toner dưỡng ẩm tốt, mùi thơm dễ chịu</td>\n",
       "    </tr>\n",
       "    <tr>\n",
       "      <th>7</th>\n",
       "      <td>sp tốt. đóng gói cẩn thận. giao hàng trễ</td>\n",
       "    </tr>\n",
       "    <tr>\n",
       "      <th>8</th>\n",
       "      <td>thực sự là mình ko thích loại này lắm, da mình...</td>\n",
       "    </tr>\n",
       "    <tr>\n",
       "      <th>9</th>\n",
       "      <td>da dầu như mình xài êm.thành phần dịu nhẹ</td>\n",
       "    </tr>\n",
       "  </tbody>\n",
       "</table>\n",
       "</div>"
      ],
      "text/plain": [
       "                                     content_comment\n",
       "0                giao lâu, chất lượng + đóng gói oke\n",
       "1  thích em này thật sự, mùi thơm thảo mộc, lành ...\n",
       "2  toner này gần như ko mùi dạng sệt thoa lên da ...\n",
       "3  vô thưởng vô phạt, dễ chịu, không mùi thiết kế...\n",
       "4               giao hàng nhanh với cả xài rất tốt í\n",
       "5                                       rất hài lòng\n",
       "6               toner dưỡng ẩm tốt, mùi thơm dễ chịu\n",
       "7           sp tốt. đóng gói cẩn thận. giao hàng trễ\n",
       "8  thực sự là mình ko thích loại này lắm, da mình...\n",
       "9          da dầu như mình xài êm.thành phần dịu nhẹ"
      ]
     },
     "execution_count": 3,
     "metadata": {},
     "output_type": "execute_result"
    }
   ],
   "source": [
    "# 1. Convert to lower case\n",
    "mergecomment[\"content_comment\"] = mergecomment[\"content_comment\"].str.lower()\n",
    "mergecomment.head(10)\n"
   ]
  },
  {
   "cell_type": "code",
   "execution_count": 4,
   "metadata": {},
   "outputs": [],
   "source": [
    "# 2. Replace word\n",
    "\n",
    "# Read file abbreviations\n",
    "abbs_df = pd.read_csv(os.path.join(os.path.dirname(os.getcwd()), \"data\", \"abbreviations.csv\"))\n",
    "\n",
    "# Create a dictionary to map abbreviations to meanings\n",
    "abbreviation_dict = dict(zip(abbs_df['abbreviation'], abbs_df['meaning']))\n",
    "\n",
    "# Function to decode abbs\n",
    "def decode_abbreviations(text, abbreviation_dict):\n",
    "    # Search for abbreviations in the text and replace them \n",
    "    # with their corresponding meanings from the dictionary\n",
    "    for abbreviation, meaning in abbreviation_dict.items():\n",
    "        text = re.sub(r'\\b' + re.escape(abbreviation) + r'\\b', meaning, text)\n",
    "    return text\n",
    "\n",
    "# Apply the decode_abbreviations function to the 'content_comment' column\n",
    "mergecomment[\"decoded_content_comment\"] = mergecomment[\"content_comment\"].apply(lambda x: decode_abbreviations(x, abbreviation_dict))\n"
   ]
  },
  {
   "cell_type": "code",
   "execution_count": 9,
   "metadata": {},
   "outputs": [],
   "source": [
    "output_file = os.path.join(os.path.dirname(os.getcwd()), \"data\", \"merged\", \"processed_comments.csv\")\n",
    "mergecomment.to_csv(output_file, index=False, encoding='utf-8-sig')"
   ]
  }
 ],
 "metadata": {
  "kernelspec": {
   "display_name": "Python 3",
   "language": "python",
   "name": "python3"
  },
  "language_info": {
   "codemirror_mode": {
    "name": "ipython",
    "version": 3
   },
   "file_extension": ".py",
   "mimetype": "text/x-python",
   "name": "python",
   "nbconvert_exporter": "python",
   "pygments_lexer": "ipython3",
   "version": "3.10.0rc2"
  }
 },
 "nbformat": 4,
 "nbformat_minor": 2
}
