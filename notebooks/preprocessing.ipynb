{
 "cells": [
  {
   "cell_type": "code",
   "execution_count": 6,
   "metadata": {},
   "outputs": [],
   "source": [
    "# Import library\n",
    "import pandas as pd\n",
    "import os\n",
    "from datetime import datetime\n",
    "from underthesea import text_normalize\n",
    "from underthesea import classify\n",
    "from underthesea import sentiment\n",
    "\n",
    "# Read file\n",
    "mergecomment = pd.read_csv(os.path.join(os.path.dirname(os.getcwd()), \"data\", \"merged\", \"mergedcomment_20240328_1710.csv\"))"
   ]
  },
  {
   "cell_type": "code",
   "execution_count": 7,
   "metadata": {},
   "outputs": [],
   "source": [
    "# Choose columns\n",
    "mergecomment = mergecomment[['data_product_id', 'content_comment']]"
   ]
  },
  {
   "cell_type": "code",
   "execution_count": null,
   "metadata": {},
   "outputs": [],
   "source": [
    "# 1.1. Convert to lower case\n",
    "\n"
   ]
  },
  {
   "cell_type": "code",
   "execution_count": 8,
   "metadata": {},
   "outputs": [
    {
     "data": {
      "text/plain": [
       "0                  Long delivery, quality + package oke\n",
       "1     Like this girl really, the fragrance of herb, ...\n",
       "2     This toner is almost no smell applied to the s...\n",
       "3     Innocuous, pleasant, odorless design is diffic...\n",
       "4                      Fast delivery with very good use\n",
       "5                                          Very pleased\n",
       "6               Good moisturizing toner, pleasant aroma\n",
       "7                 Good sp.Careful packing.late delivery\n",
       "8     Actually, I don't like this type, my skin is o...\n",
       "9           Oily skin like me use smoothly. Smooth part\n",
       "10    Just used for the first time it was fine, the ...\n",
       "11                                           Received ,\n",
       "12           The right smell of relax, benign, too good\n",
       "13                                            Very good\n",
       "14    Use very well without viscosity, fast penetration\n",
       "15    As expected of Dear Klairs.Can be used for sen...\n",
       "16    A pleasant, benign, moisturizing fragrance soo...\n",
       "17    The toner smell of relax really moisturizes wi...\n",
       "18    This bottle has a good design.Good use.I used ...\n",
       "19       Benign.But oily skin after applying lotion ...\n",
       "Name: content_comment, dtype: object"
      ]
     },
     "execution_count": 8,
     "metadata": {},
     "output_type": "execute_result"
    }
   ],
   "source": [
    "from googletrans import Translator\n",
    "def vn_translate(text):\n",
    "    translated_text = Translator().translate(text, src='vi', dest='en').text\n",
    "    return translated_text\n",
    "mergecomment['content_comment'][:20].apply(vn_translate)"
   ]
  },
  {
   "cell_type": "code",
   "execution_count": 13,
   "metadata": {},
   "outputs": [
    {
     "name": "stdout",
     "output_type": "stream",
     "text": [
      "['Long delivery, quality + packaging ok', 'I really like this one, the scent is herbal and benign. Will always support!!', 'This toner is almost odorless. It is a thick consistency that is applied to the skin, absorbs smoothly and then dries off. Not sticky like hadalabo I like this one very much. Combine with midnight cream to get rid of hidden acne', 'Innocent, pleasant, odorless Lid design is difficult to use', 'Fast delivery and very good to use', 'Very pleased', 'Good moisturizing toner, pleasant fragrance', 'Good product. Careful packing. late delivery', \"Actually, I don't like this product very much. My skin is oily and acne-prone. I find that using it on my skin is dull and makes my acne worse\", \"For oily skin like mine, it's easy to use. Gentle ingredients\", \"Just used it for the first time and it seems fine. The toner comes in a disposable form so it's very economical\", 'Received ,', 'The smell is relaxing, benign, so good', 'Very good', 'Very good to use, not sticky, absorbs quickly', 'As expected of dear Klairs. Can be used for sensitive skin, skin is very moist and smooth', 'Pleasant, benign fragrance, Moisturizes and soothes the skin very well. Skin feels healthier', 'Relax smelling toner is really moisturizing and will last for a long time', 'This bottle has a good design. Good use. I have used several bottles. It really does tighten pores. Skin has improved a lot', 'Benign. But my skin gets a lot of oil after applying serum and moisturizer...']\n"
     ]
    }
   ],
   "source": [
    "from deep_translator import GoogleTranslator\n",
    "\n",
    "# Chuyển đổi 20 dòng đầu tiên trong cột 'content_comment' thành danh sách và dịch\n",
    "texts = mergecomment['content_comment'][:20].to_list()\n",
    "translated = GoogleTranslator(source='vi', target='en').translate_batch(texts)\n",
    "print(translated)\n"
   ]
  }
 ],
 "metadata": {
  "kernelspec": {
   "display_name": "Python 3",
   "language": "python",
   "name": "python3"
  },
  "language_info": {
   "codemirror_mode": {
    "name": "ipython",
    "version": 3
   },
   "file_extension": ".py",
   "mimetype": "text/x-python",
   "name": "python",
   "nbconvert_exporter": "python",
   "pygments_lexer": "ipython3",
   "version": "3.10.0"
  }
 },
 "nbformat": 4,
 "nbformat_minor": 2
}
