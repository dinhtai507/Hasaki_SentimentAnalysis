{
 "cells": [
  {
   "cell_type": "code",
   "execution_count": 1,
   "metadata": {},
   "outputs": [],
   "source": [
    "# Import library\n",
    "import pandas as pd\n",
    "import os\n",
    "from datetime import datetime\n",
    "\n",
    "# Announce directory name\n",
    "directory = os.path.join(os.path.dirname(os.getcwd()), \"data\")\n",
    "\n",
    "# Return list file_name in product and append in to a dataframe\n",
    "files = [\n",
    "    filename for filename in os.listdir(os.path.join(directory, \"comment\")) \n",
    "    if filename.endswith(\".csv\")\n",
    "    ]\n",
    "\n",
    "# Read each filename into a dataframe \n",
    "dfs = [pd.read_csv(os.path.join(directory, \"comment\", filename)) for filename in files]\n",
    "\n",
    "# Merged all dataframe\n",
    "mergedcomment = pd.concat(dfs, ignore_index= True)"
   ]
  },
  {
   "cell_type": "code",
   "execution_count": 2,
   "metadata": {},
   "outputs": [],
   "source": [
    "# Drop null values\n",
    "mergedcomment = mergedcomment.dropna()\n",
    "\n",
    "# Drop duplicates\n",
    "mergedcomment = mergedcomment.drop_duplicates(subset=['content_comment'])\n",
    "\n",
    "# Drop columns\n",
    "mergedcomment = mergedcomment.drop(columns=['Unnamed: 0'])"
   ]
  },
  {
   "cell_type": "code",
   "execution_count": 3,
   "metadata": {},
   "outputs": [
    {
     "name": "stdout",
     "output_type": "stream",
     "text": [
      "Number of rows is:  3739\n"
     ]
    }
   ],
   "source": [
    "# Number of rows\n",
    "num_rows = mergedcomment.shape[0]\n",
    "print(\"Number of rows is: \", num_rows)"
   ]
  },
  {
   "cell_type": "code",
   "execution_count": 4,
   "metadata": {},
   "outputs": [],
   "source": [
    "# Convert df to csv\n",
    "current_datetime = datetime.now().strftime(\"%Y%m%d_%H%M\")\n",
    "mergedcomment_filename = f\"mergedcomment_{current_datetime}.csv\"\n",
    "mergedcomment.to_csv(os.path.join(directory, \"merged\", mergedcomment_filename), index=False, encoding='utf-8-sig')"
   ]
  }
 ],
 "metadata": {
  "kernelspec": {
   "display_name": "Python 3",
   "language": "python",
   "name": "python3"
  },
  "language_info": {
   "codemirror_mode": {
    "name": "ipython",
    "version": 3
   },
   "file_extension": ".py",
   "mimetype": "text/x-python",
   "name": "python",
   "nbconvert_exporter": "python",
   "pygments_lexer": "ipython3",
   "version": "3.10.0"
  }
 },
 "nbformat": 4,
 "nbformat_minor": 2
}
