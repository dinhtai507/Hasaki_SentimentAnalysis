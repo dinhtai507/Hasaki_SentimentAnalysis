{
 "cells": [
  {
   "cell_type": "code",
   "execution_count": 1,
   "metadata": {},
   "outputs": [],
   "source": [
    "# Import library\n",
    "import pandas as pd\n",
    "import os\n",
    "from datetime import datetime\n",
    "\n",
    "# Announce directory name\n",
    "directory = \"D:/HOC KI 8/3. Graduate project/hasaki_crawling/data\"\n",
    "\n",
    "# Return list file_name in product and append in to a dataframe\n",
    "files = [\n",
    "    filename for filename in os.listdir(os.path.join(directory, \"product\")) \n",
    "    if filename.endswith(\".csv\")\n",
    "    ]\n",
    "\n",
    "# Read each filename into a dataframe \n",
    "dfs = [pd.read_csv(os.path.join(directory, \"product\", filename)) for filename in files]\n",
    "\n",
    "# Merged all dataframe\n",
    "mergedproduct = pd.concat(dfs, ignore_index= True)"
   ]
  },
  {
   "cell_type": "code",
   "execution_count": 2,
   "metadata": {},
   "outputs": [],
   "source": [
    "# Drop null values\n",
    "mergedproduct = mergedproduct.dropna()\n",
    "\n",
    "# Drop duplicates\n",
    "mergedproduct = mergedproduct.drop_duplicates(subset=['data_product_id'])"
   ]
  },
  {
   "cell_type": "code",
   "execution_count": 3,
   "metadata": {},
   "outputs": [
    {
     "name": "stdout",
     "output_type": "stream",
     "text": [
      "Number of rows is:  3403\n"
     ]
    }
   ],
   "source": [
    "# Number of rows\n",
    "num_rows = mergedproduct.shape[0]\n",
    "print(\"Number of rows is: \", num_rows)"
   ]
  },
  {
   "cell_type": "code",
   "execution_count": 4,
   "metadata": {},
   "outputs": [],
   "source": [
    "# Convert df to csv\n",
    "current_datetime = datetime.now().strftime(\"%Y%m%d_%H%M\")\n",
    "mergedproduct_filename = f\"mergedproduct_{current_datetime}.csv\"\n",
    "mergedproduct.to_csv(os.path.join(directory, \"merged\", mergedproduct_filename), index=False, encoding='utf-8-sig')"
   ]
  }
 ],
 "metadata": {
  "kernelspec": {
   "display_name": "Python 3",
   "language": "python",
   "name": "python3"
  },
  "language_info": {
   "codemirror_mode": {
    "name": "ipython",
    "version": 3
   },
   "file_extension": ".py",
   "mimetype": "text/x-python",
   "name": "python",
   "nbconvert_exporter": "python",
   "pygments_lexer": "ipython3",
   "version": "3.10.0rc2"
  }
 },
 "nbformat": 4,
 "nbformat_minor": 2
}
