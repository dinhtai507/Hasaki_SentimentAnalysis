{
 "cells": [
  {
   "cell_type": "code",
   "execution_count": 1,
   "metadata": {},
   "outputs": [],
   "source": [
    "import numpy as np\n",
    "from selenium import webdriver\n",
    "from time import sleep\n",
    "import random\n",
    "from selenium.webdriver.common.by import By\n",
    "import pandas as pd\n",
    "from datetime import datetime\n",
    "\n",
    "# Setting Options\n",
    "options = webdriver.ChromeOptions()\n",
    "\n",
    "# Add user agent\n",
    "user_agent = \"Mozilla/5.0 (Windows NT 10.0; Win64; x64) AppleWebKit/537.36 (KHTML, like Gecko) Chrome/121.0.0.0 Safari/537.36\"\n",
    "options.add_argument(f\"user-agent={user_agent}\")\n",
    "\n",
    "# Other options\n",
    "options.add_argument(\"--ignore-certificate-errors\")\n",
    "options.add_argument(\"--start-maximized\")\n",
    "options.add_argument(\"--disable-popup-blocking\")\n",
    "options.add_argument(\"--no-sandbox\")\n",
    "\n",
    "# Declare browser\n",
    "driver = webdriver.Chrome(options=options)\n",
    "sleep(random.randint(1,5))\n",
    "\n",
    "# Open URL\n",
    "driver.get(\"https://hasaki.vn/danh-muc/cham-soc-da-mat-c4.html\")\n",
    "sleep(random.randint(5,10))"
   ]
  },
  {
   "cell_type": "code",
   "execution_count": 8,
   "metadata": {},
   "outputs": [],
   "source": [
    "# Get link, id\n",
    "elems_link_id = driver.find_elements(By.CSS_SELECTOR, '.ProductGrid__grid .block_info_item_sp')\n",
    "links = [elem.get_attribute('href') for elem in elems_link_id]\n",
    "product_ids = [elem.get_attribute('data-id') for elem in elems_link_id]\n",
    "data_product_ids = [elem.get_attribute('data-product') for elem in elems_link_id]\n",
    "sleep(random.randint(5,10))\n",
    "\n",
    "# Get title\n",
    "elems_title = driver.find_elements(By.CSS_SELECTOR, '.ProductGrid__grid .vn_names')\n",
    "title = [elem.text for elem in elems_title]\n",
    "sleep(random.randint(5,10))\n",
    "\n",
    "# Get price\n",
    "elems_price = driver.find_elements(By.CSS_SELECTOR, '.ProductGrid__grid .item_giacu')\n",
    "price = [elem.text for elem in elems_price]\n",
    "sleep(random.randint(5,10))\n",
    "\n",
    "# Get discount\n",
    "elems_discount = driver.find_elements(By.CSS_SELECTOR, '.ProductGrid__grid .item_giamoi')\n",
    "discount = [elem.text for elem in elems_discount]\n",
    "sleep(random.randint(5,10))"
   ]
  },
  {
   "cell_type": "code",
   "execution_count": 10,
   "metadata": {},
   "outputs": [],
   "source": [
    "# Get review counts:\n",
    "def get_reviews_counts(string):\n",
    "    start_index = string.find('(')\n",
    "    end_index = string.find(')')\n",
    "    review_count = string[start_index + 1:end_index]\n",
    "    return review_count\n",
    "\n",
    "elems_review_count = driver.find_elements(By.CSS_SELECTOR, '.ProductGrid__grid .block_count_by')\n",
    "review_count = [get_reviews_counts(elem.text) for elem  in elems_review_count]\n",
    "sleep(random.randint(5,10))\n",
    "\n",
    "# Get quantity_sold\n",
    "elems_quantity_sold = driver.find_elements(By.CSS_SELECTOR, '.ProductGrid__grid .item_count_by')\n",
    "quantity_sold = [elem.text.strip('\\n ') for elem  in elems_quantity_sold]\n",
    "sleep(random.randint(5,10))\n",
    "\n",
    "# Get product_variant\n",
    "elems_product_variant = driver.find_elements(By.CSS_SELECTOR, \".ProductGrid__grid .block_info_item_sp\")\n",
    "product_variant = [elem.get_attribute('data-variant') for elem  in elems_product_variant]\n",
    "sleep(random.randint(5,10))"
   ]
  },
  {
   "cell_type": "code",
   "execution_count": 21,
   "metadata": {},
   "outputs": [],
   "source": [
    "# Read ids from crawled csv\n",
    "existing_ids_df = pd.read_csv(\"D:/HOC KI 8/3. Graduate project/iddata_20240223_1411.csv\")\n",
    "existing_product_ids = existing_ids_df['product_id'].tolist()\n",
    "existing_data_product_ids = existing_ids_df['data_product_id'].tolist()\n",
    "\n",
    "# Choose new id to be crawled\n",
    "new_product_ids = [id for id in product_ids if id not in existing_product_ids]\n",
    "new_data_product_ids = [id for id in data_product_ids if id not in existing_data_product_ids]\n",
    "# Choose details with new id\n",
    "new_title = [title[i] for i, id in enumerate(data_product_ids) if id in new_data_product_ids]\n",
    "new_links = [links[i] for i, id in enumerate(data_product_ids) if id in new_data_product_ids] \n",
    "new_price = [price[i] for i, id in enumerate(data_product_ids) if id in new_data_product_ids]\n",
    "new_discount = [discount[i] for i, id in enumerate(data_product_ids) if id in new_data_product_ids]\n",
    "new_quantity_sold = [quantity_sold[i] for i, id in enumerate(data_product_ids) if id in new_data_product_ids]\n",
    "new_product_variant = [product_variant[i] for i, id in enumerate(data_product_ids) if id in new_data_product_ids]\n",
    "new_review_count = [review_count[i] for i, id in enumerate(data_product_ids) if id in new_data_product_ids]"
   ]
  },
  {
   "cell_type": "code",
   "execution_count": 25,
   "metadata": {},
   "outputs": [],
   "source": [
    "# Create dataframe for data crawled\n",
    "product_data = pd.DataFrame(\n",
    "    list(zip(new_product_ids, new_data_product_ids, new_title, new_links, new_price, \n",
    "             new_discount, new_quantity_sold, new_product_variant, new_review_count)), \n",
    "    columns = ['product_id', 'data_product_id', 'title', 'link','original_price', \n",
    "                'current_price', 'quantity_sold', 'product_variant', 'review_count'])\n",
    "product_data['index']= np.arange(1, len(product_data) + 1)\n",
    "sleep(random.randint(3,5))"
   ]
  },
  {
   "cell_type": "code",
   "execution_count": 26,
   "metadata": {},
   "outputs": [],
   "source": [
    "# Save into csv\n",
    "current_datetime = datetime.now().strftime(\"%Y%m%d_%H%M\")\n",
    "file_name = f\"productdata_{current_datetime}.csv\"\n",
    "product_data.to_csv(f\"D:/HOC KI 8/3. Graduate project/{file_name}\", encoding='utf-8-sig')"
   ]
  }
 ],
 "metadata": {
  "kernelspec": {
   "display_name": "Python 3",
   "language": "python",
   "name": "python3"
  },
  "language_info": {
   "codemirror_mode": {
    "name": "ipython",
    "version": 3
   },
   "file_extension": ".py",
   "mimetype": "text/x-python",
   "name": "python",
   "nbconvert_exporter": "python",
   "pygments_lexer": "ipython3",
   "version": "3.10.0"
  }
 },
 "nbformat": 4,
 "nbformat_minor": 2
}
